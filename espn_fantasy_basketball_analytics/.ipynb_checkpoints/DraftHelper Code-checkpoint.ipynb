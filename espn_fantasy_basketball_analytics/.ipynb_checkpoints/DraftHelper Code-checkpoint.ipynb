{
 "cells": [
  {
   "cell_type": "code",
   "execution_count": null,
   "id": "63cf4d6d",
   "metadata": {},
   "outputs": [],
   "source": [
    "import pandas as pd\n",
    "import requests as r\n",
    "import re\n",
    "from espn_fantasy_basketball_analytics.teamManager import teamManager\n",
    "from basketball_reference_scraper.players import get_stats\n"
   ]
  },
  {
   "cell_type": "code",
   "execution_count": null,
   "id": "0f83ab55",
   "metadata": {},
   "outputs": [],
   "source": [
    "rdl = pd.read_csv('./nba_raptor/latest_RAPTOR_by_player.csv')\n",
    "rdh = pd.read_csv('./nba_raptor/historical_RAPTOR_by_player.csv')\n",
    "rdm = pd.read_csv('./nba_raptor/modern_RAPTOR_by_player.csv')\n",
    "rtr = pd.concat([rdl,rdm])\n",
    "\n",
    "rnks = pd.read_csv('./player_rankings/fantasy_rankings_hashtag.csv').reset_index().rename(columns={'index':'rnk'})"
   ]
  },
  {
   "cell_type": "code",
   "execution_count": null,
   "id": "3998fa0f",
   "metadata": {},
   "outputs": [],
   "source": [
    "# Pull in all player data from rankings\n",
    "league_id = 64009\n",
    "year = 2022\n",
    "s2='AEA5B7v6cs8d6aJoxov5qNrW4y%2BXV3vY3ZrxgePprHBaaxWoi38abbaKLQdWWUHOKjEUCzQRB0OGbHJb8pPHjotcGySmmQ8nhT3jUM5aNcCuij4hu%2BMPaTigZN3eB1UidrA9%2B7lojxbIF4N9PtHSatK6xUYwVEBF7OTo5IN%2FwxXp0wOht3A2rs99fo27HQ0z2l4HcVXWzxVOZbqzPEMff6VbdxJaV39YDcYz%2Bwfw%2FMslT9DiqAwSbc96JuhxqAPvQqp49NAHoJNzv%2FFeNQBAQ6u9Zp0Pr2%2BPsN8bPBAWR0jCvg%3D%3D'\n",
    "sw='8048D688-6AF3-4640-83ED-4B55EAC50073'\n",
    "team_name='Lavine La Vida Loca'\n",
    "\n",
    "team = teamManager(league_id = league_id, year=year, team_name=team_name, espn_s2=s2, swid=sw)"
   ]
  },
  {
   "cell_type": "code",
   "execution_count": null,
   "id": "5e277915",
   "metadata": {},
   "outputs": [],
   "source": [
    "player_list=rnks['PLAYER'].to_list()\n",
    "clean_list = [re.sub(\"\\\\'||\\xa0\", '',x) for x in player_list]\n",
    "\n",
    "player_stats = pd.DataFrame()\n",
    "for i in clean_list:\n",
    "    get_stats('DAngelo Russell')\n",
    "    print(i)"
   ]
  },
  {
   "cell_type": "code",
   "execution_count": null,
   "id": "1c06ab15",
   "metadata": {},
   "outputs": [],
   "source": [
    "get_stats(\"DAngelo Russell\")"
   ]
  },
  {
   "cell_type": "code",
   "execution_count": null,
   "id": "fea837ad",
   "metadata": {},
   "outputs": [],
   "source": [
    "from basketball_reference_scraper import utils\n",
    "utils.get_player_suffix(\"D'Angelo Russell\")"
   ]
  },
  {
   "cell_type": "code",
   "execution_count": 6,
   "id": "6a7cc728",
   "metadata": {},
   "outputs": [],
   "source": [
    "from requests import get\n",
    "from bs4 import BeautifulSoup\n",
    "import pandas as pd\n",
    "import unicodedata, unidecode\n",
    "import re\n",
    "\n",
    "def get_player_suffix(name):\n",
    "    normalized_name = unidecode.unidecode(unicodedata.normalize('NFD', name).encode('ascii', 'ignore').decode(\"utf-8\"))\n",
    "    if normalized_name == 'Metta World Peace' :\n",
    "        suffix = '/players/a/artesro01.html'\n",
    "    else:\n",
    "        strip_name = re.sub('[^a-zA-Z\\s]+', '', normalized_name)\n",
    "        split_normalized_name = strip.split(' ')\n",
    "        if len(split_normalized_name) < 2:\n",
    "            return None\n",
    "        initial = strip_name.split(' ')[1][0].lower()\n",
    "        all_names = strip_name.split(' ')\n",
    "        first_name_part = unidecode.unidecode(all_names[0][:2].lower())\n",
    "        first_name = all_names[0]\n",
    "        other_names = all_names[1:]\n",
    "        other_names_search = other_names\n",
    "        last_name_part = create_last_name_part_of_suffix(other_names)\n",
    "        suffix = '/players/'+initial+'/'+last_name_part+first_name_part+'01.html'\n",
    "    player_r = get(f'https://www.basketball-reference.com{suffix}')\n",
    "    while player_r.status_code == 404:\n",
    "        other_names_search.pop(0)\n",
    "        last_name_part = create_last_name_part_of_suffix(other_names_search)\n",
    "        initial = last_name_part[0].lower()\n",
    "        suffix = '/players/'+initial+'/'+last_name_part+first_name_part+'01.html'\n",
    "        player_r = get(f'https://www.basketball-reference.com{suffix}')\n",
    "    while player_r.status_code==200:\n",
    "        player_soup = BeautifulSoup(player_r.content, 'html.parser')\n",
    "        h1 = player_soup.find('h1')\n",
    "        if h1:\n",
    "            page_name = h1.find('span').text\n",
    "            \"\"\"\n",
    "                Test if the URL we constructed matches the \n",
    "                name of the player on that page; if it does,\n",
    "                return suffix, if not add 1 to the numbering\n",
    "                and recheck.\n",
    "            \"\"\"\n",
    "            if ((unidecode.unidecode(page_name)).lower() == normalized_name.lower()):\n",
    "                return suffix\n",
    "            else:\n",
    "                page_names = unidecode.unidecode(page_name).lower().split(' ')\n",
    "                page_first_name = page_names[0]\n",
    "                if first_name.lower() == page_first_name.lower():\n",
    "                    return suffix\n",
    "                # if players have same first two letters of last name then just\n",
    "                # increment suffix\n",
    "                elif first_name.lower()[:2] == page_first_name.lower()[:2]:\n",
    "                    player_number = int(''.join(c for c in suffix if c.isdigit())) + 1\n",
    "                    if player_number < 10:\n",
    "                        player_number = f\"0{str(player_number)}\"\n",
    "                    suffix = f\"/players/{initial}/{last_name_part}{first_name_part}{player_number}.html\"\n",
    "                else:\n",
    "                    other_names_search.pop(0)\n",
    "                    last_name_part = create_last_name_part_of_suffix(other_names_search)\n",
    "                    initial = last_name_part[0].lower()\n",
    "                    suffix = '/players/'+initial+'/'+last_name_part+first_name_part+'01.html'\n",
    "\n",
    "                player_r = get(f'https://www.basketball-reference.com{suffix}')\n",
    "\n",
    "    return None\n",
    "\n",
    "def create_last_name_part_of_suffix(potential_last_names):\n",
    "    last_names = ''.join(potential_last_names)\n",
    "    if len(last_names) <= 5:\n",
    "        return last_names[:].lower()\n",
    "    else:\n",
    "        return last_names[:5].lower()"
   ]
  },
  {
   "cell_type": "code",
   "execution_count": 11,
   "id": "18387504",
   "metadata": {},
   "outputs": [
    {
     "data": {
      "text/plain": [
       "200"
      ]
     },
     "execution_count": 11,
     "metadata": {},
     "output_type": "execute_result"
    }
   ],
   "source": [
    "name = \"D'Angelo Russell\"\n",
    "\n",
    "normalized_name = re.sub('[^a-zA-Z\\s]+', '', unidecode.unidecode(unicodedata.normalize('NFD', name).encode('ascii', 'ignore').decode(\"utf-8\")))\n",
    "initial = normalized_name.split(' ')[1][0].lower()\n",
    "all_names = normalized_name.split(' ')\n",
    "first_name_part = unidecode.unidecode(all_names[0][:2].lower())\n",
    "first_name = all_names[0]\n",
    "other_names = all_names[1:]\n",
    "other_names_search = other_names\n",
    "last_name_part = create_last_name_part_of_suffix(other_names)\n",
    "suffix = '/players/'+initial+'/'+last_name_part+first_name_part+'01.html'\n",
    "player_r = get(f'https://www.basketball-reference.com{suffix}')\n",
    "player_r.status_code"
   ]
  }
 ],
 "metadata": {
  "kernelspec": {
   "display_name": "Python 3 (ipykernel)",
   "language": "python",
   "name": "python3"
  },
  "language_info": {
   "codemirror_mode": {
    "name": "ipython",
    "version": 3
   },
   "file_extension": ".py",
   "mimetype": "text/x-python",
   "name": "python",
   "nbconvert_exporter": "python",
   "pygments_lexer": "ipython3",
   "version": "3.9.12"
  }
 },
 "nbformat": 4,
 "nbformat_minor": 5
}
