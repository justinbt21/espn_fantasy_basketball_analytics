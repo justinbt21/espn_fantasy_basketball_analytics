{
 "cells": [
  {
   "cell_type": "markdown",
   "id": "a65ca02d",
   "metadata": {},
   "source": [
    "# Introduction"
   ]
  },
  {
   "cell_type": "markdown",
   "id": "bf9db453",
   "metadata": {},
   "source": [
    "DraftHelper is a fantasy basketball draft recommendation engine that provides actionable insights for you to make the most informed pick. \n",
    "\n",
    "\n"
   ]
  },
  {
   "cell_type": "markdown",
   "id": "5e348f76",
   "metadata": {},
   "source": [
    "# Problem Statement"
   ]
  },
  {
   "cell_type": "markdown",
   "id": "214b9677",
   "metadata": {},
   "source": [
    "Every drafter knows that feeling -- You have next pick. You are certain they aren't going to choose a player high on your board, and in the finals seconds the they pick him and you frantically scour the board until the timer runs out, and you end up auto-picking a player thats injured for the season (Looking at you Kawhi Leonard).  \n",
    "\n",
    "It takes hours of preparation\n",
    "\n",
    "During that picking phase, you are trying to answer thousands of questions: \n",
    "- What categories do I need? \n",
    "- What positions do I need to fill? \n",
    "- Can I get better value for a specific position/category in the later rounds? \n",
    "- How will a new player affect their stats? \n",
    "- Can I afford to take a gamble on this notoriously injured player with my roster? \n",
    "\n",
    "It is hard to take into consideration all these factors in the short amount of time you have to draft.\n"
   ]
  },
  {
   "cell_type": "markdown",
   "id": "a905e807",
   "metadata": {},
   "source": [
    "# Goal Statement "
   ]
  },
  {
   "cell_type": "markdown",
   "id": "93e7b0fc",
   "metadata": {},
   "source": [
    "My goal is to be able to lift these answers and quantify it into a metric so as you are drafting you can focus on deciding which players to choose that fit your criteria. Punting FT% with Giannis? No problem. DraftHelper expects Rudy Gobert and Domantas Sabonis to be available by your next turn. Oh damn they're picked? No problem, lets go with Bam who still provides overall decent value, and fits within our strategy. "
   ]
  },
  {
   "cell_type": "markdown",
   "id": "4adb8772",
   "metadata": {},
   "source": [
    "# Methodology"
   ]
  },
  {
   "cell_type": "markdown",
   "id": "5948912c",
   "metadata": {},
   "source": [
    "The intent of this tool is to not necessarily tell you which player to choose, but rather give you the right information at the right time in order for you to make the most informed decision.\n",
    "\n",
    "Simply, I want to reduce the amount of judgement calls you are making as the timer is winding down so you can focus more on theory crafting which player fits your team best.\n",
    "\n",
    "There are two types variables that go into the player score:\n",
    "\n",
    "- Fixed: Fixed variables do not change as the draft goes along (EX: Player projected averages, injury score, etc.)\n",
    "- Dynamic: Dynamic variables that change as the draft goes along and players get picked (EX: Positional Scarcity, Stat Scarcity)\n",
    "\n",
    "The combination of these types of variables attempt to capture both the factors make a player a strong pick (fixed), and factors out of your control as players come off the board (Dynamic).\n",
    "\n",
    "Now, for the player draft score -- the purpose is to be able to encapsulate all of the factors into a single numeric. It isn't perfect, but acts as a simplified metric for quicker decision making and ranking players.\n",
    "\n",
    "At a high level, the function for player draft score looks lke this:\n",
    "\n",
    "p(x) = f(x) + d(x)\n",
    "f(x) = sigma(xi)\n",
    "d(x) = sigma(ni)\n",
    "\n",
    "\n",
    "Variables in the fixed function are:\n",
    "- Projected Stats\n",
    "- Last Year Stats\n",
    "- Years in League\n",
    "- Draft Pick\n",
    "- Coefficient of Variation for Stats (Ratio between STD / Mean)\n",
    "- Injury Score\n",
    "- Contract Year \n",
    "- Personal Projection Prior\n",
    "- Playoff Schedule\n",
    "\n",
    "Variables in the dynamic function are:\n",
    "- Position Scarcity\n",
    "- Statistical Scarcity\n",
    "- Similar Players at Higher ADPs \n",
    "- ADP / Pick #\n",
    "- Positional Ranking\n",
    "- Statistical Ranking\n",
    "\n",
    "\n",
    "\n",
    "`\n",
    "\n",
    "\n"
   ]
  },
  {
   "cell_type": "markdown",
   "id": "caebb82a",
   "metadata": {},
   "source": [
    "# Risk"
   ]
  },
  {
   "cell_type": "code",
   "execution_count": null,
   "id": "f6bd4603",
   "metadata": {},
   "outputs": [],
   "source": []
  },
  {
   "cell_type": "markdown",
   "id": "38f00a0b",
   "metadata": {},
   "source": [
    "# Callouts"
   ]
  },
  {
   "cell_type": "markdown",
   "id": "e563673d",
   "metadata": {},
   "source": [
    "# MVP"
   ]
  }
 ],
 "metadata": {
  "kernelspec": {
   "display_name": "Python 3 (ipykernel)",
   "language": "python",
   "name": "python3"
  },
  "language_info": {
   "codemirror_mode": {
    "name": "ipython",
    "version": 3
   },
   "file_extension": ".py",
   "mimetype": "text/x-python",
   "name": "python",
   "nbconvert_exporter": "python",
   "pygments_lexer": "ipython3",
   "version": "3.9.12"
  }
 },
 "nbformat": 4,
 "nbformat_minor": 5
}
